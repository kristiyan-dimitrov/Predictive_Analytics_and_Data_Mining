{
 "cells": [
  {
   "cell_type": "markdown",
   "metadata": {},
   "source": [
    "# Data Mining Homework 2 - GMM"
   ]
  },
  {
   "cell_type": "markdown",
   "metadata": {},
   "source": [
    "## Problem 3"
   ]
  },
  {
   "cell_type": "code",
   "execution_count": 254,
   "metadata": {},
   "outputs": [],
   "source": [
    "from sklearn.mixture import GaussianMixture\n",
    "from sklearn.cluster import KMeans\n",
    "import random\n",
    "import seaborn as sns\n",
    "import pandas as pd\n",
    "import numpy as np\n",
    "import matplotlib.pyplot as plt\n",
    "%matplotlib inline\n",
    "plt.style.use(\"ggplot\")"
   ]
  },
  {
   "cell_type": "markdown",
   "metadata": {},
   "source": [
    "### Generating Data"
   ]
  },
  {
   "cell_type": "code",
   "execution_count": 255,
   "metadata": {},
   "outputs": [],
   "source": [
    "mu1, mu2, mu3, sig = .5, 1, 2, 1"
   ]
  },
  {
   "cell_type": "code",
   "execution_count": 256,
   "metadata": {},
   "outputs": [],
   "source": [
    "np.random.seed(42)\n",
    "data1 = np.random.normal(loc = mu1, scale = sig, size = 3000)\n",
    "data2 = np.random.normal(loc = -mu1, scale = sig, size = 3000)"
   ]
  },
  {
   "cell_type": "code",
   "execution_count": 257,
   "metadata": {},
   "outputs": [
    {
     "name": "stdout",
     "output_type": "stream",
     "text": [
      "          0\n",
      "0  0.996714\n",
      "1  0.361736\n",
      "2  1.147689\n",
      "3  2.023030\n",
      "4  0.265847\n",
      "          0\n",
      "0 -2.407808\n",
      "1 -1.360385\n",
      "2 -0.913606\n",
      "3  1.387688\n",
      "4  0.056553\n"
     ]
    }
   ],
   "source": [
    "df1 = pd.DataFrame(data1)\n",
    "df2 = pd.DataFrame(data2)\n",
    "print(df1.head())\n",
    "print(df2.head())"
   ]
  },
  {
   "cell_type": "code",
   "execution_count": 258,
   "metadata": {},
   "outputs": [
    {
     "data": {
      "image/png": "[encoded data removed]",
      "text/plain": [
       "<Figure size 432x288 with 1 Axes>"
      ]
     },
     "metadata": {},
     "output_type": "display_data"
    }
   ],
   "source": [
    "sns_plot = sns.distplot(data1, bins=50)\n",
    "sns_plot = sns.distplot(data2, bins=50)\n",
    "sns_plot.figure.savefig(\"Distribution mu1.png\")"
   ]
  },
  {
   "cell_type": "code",
   "execution_count": 259,
   "metadata": {},
   "outputs": [
    {
     "name": "stdout",
     "output_type": "stream",
     "text": [
      "(6000, 1)\n",
      "(6000,)\n"
     ]
    }
   ],
   "source": [
    "# Combining the data\n",
    "df = df1.append(df2)\n",
    "print(df.shape)\n",
    "data = np.concatenate([data1,data2])\n",
    "print(data.shape)"
   ]
  },
  {
   "cell_type": "markdown",
   "metadata": {},
   "source": [
    "### K-Means"
   ]
  },
  {
   "cell_type": "code",
   "execution_count": 260,
   "metadata": {},
   "outputs": [],
   "source": [
    "kmeans = KMeans(n_clusters=2, random_state=42, n_init = 100)"
   ]
  },
  {
   "cell_type": "code",
   "execution_count": 261,
   "metadata": {},
   "outputs": [
    {
     "data": {
      "text/plain": [
       "KMeans(algorithm='auto', copy_x=True, init='k-means++', max_iter=300,\n",
       "       n_clusters=2, n_init=100, n_jobs=None, precompute_distances='auto',\n",
       "       random_state=42, tol=0.0001, verbose=0)"
      ]
     },
     "execution_count": 261,
     "metadata": {},
     "output_type": "execute_result"
    }
   ],
   "source": [
    "kmeans.fit(df)"
   ]
  },
  {
   "cell_type": "code",
   "execution_count": 262,
   "metadata": {},
   "outputs": [
    {
     "data": {
      "text/plain": [
       "array([[-0.90136263],\n",
       "       [ 0.90535806]])"
      ]
     },
     "execution_count": 262,
     "metadata": {},
     "output_type": "execute_result"
    }
   ],
   "source": [
    "kmeans.cluster_centers_"
   ]
  },
  {
   "cell_type": "code",
   "execution_count": 263,
   "metadata": {},
   "outputs": [
    {
     "name": "stdout",
     "output_type": "stream",
     "text": [
      "0    0.690095\n",
      "dtype: float64\n",
      "0    0.674879\n",
      "dtype: float64\n"
     ]
    }
   ],
   "source": [
    "print(df[kmeans.labels_ == 0].std())\n",
    "print(df[kmeans.labels_ == 1].std())"
   ]
  },
  {
   "cell_type": "markdown",
   "metadata": {},
   "source": [
    "The standard deviations appear to have shrunk!"
   ]
  },
  {
   "cell_type": "code",
   "execution_count": 264,
   "metadata": {},
   "outputs": [
    {
     "data": {
      "image/png": "[encoded data removed]",
      "text/plain": [
       "<Figure size 432x288 with 1 Axes>"
      ]
     },
     "metadata": {},
     "output_type": "display_data"
    }
   ],
   "source": [
    "ax = plt.scatter(df,kmeans.labels_, c=kmeans.labels_ )\n",
    "for mean in kmeans.cluster_centers_:\n",
    "    plt.axvline(x=mean)\n",
    "ax = plt.axvline(-mu1, c='b')\n",
    "ax = plt.axvline(mu1, c='b')\n",
    "ax.figure.savefig('Kmeans - Mean Shift mu1.png')"
   ]
  },
  {
   "cell_type": "markdown",
   "metadata": {},
   "source": [
    "Note that the means generated with KMeans are noticable biased towards larger absolute values i.e. further away from 0  \n",
    "Just like what we discussed in class!"
   ]
  },
  {
   "cell_type": "markdown",
   "metadata": {},
   "source": [
    "### GMM"
   ]
  },
  {
   "cell_type": "code",
   "execution_count": 265,
   "metadata": {},
   "outputs": [],
   "source": [
    "# The default assumption is 'full', but I will first try with 'spherical', because that's the truth \n",
    "gmm = GaussianMixture(n_components=2, covariance_type='spherical', random_state=42, n_init=100)"
   ]
  },
  {
   "cell_type": "code",
   "execution_count": 266,
   "metadata": {},
   "outputs": [
    {
     "data": {
      "text/plain": [
       "GaussianMixture(covariance_type='spherical', init_params='kmeans', max_iter=100,\n",
       "                means_init=None, n_components=2, n_init=100,\n",
       "                precisions_init=None, random_state=42, reg_covar=1e-06,\n",
       "                tol=0.001, verbose=0, verbose_interval=10, warm_start=False,\n",
       "                weights_init=None)"
      ]
     },
     "execution_count": 266,
     "metadata": {},
     "output_type": "execute_result"
    }
   ],
   "source": [
    "gmm.fit(df)"
   ]
  },
  {
   "cell_type": "code",
   "execution_count": 267,
   "metadata": {},
   "outputs": [
    {
     "data": {
      "text/plain": [
       "array([[ 0.68340782],\n",
       "       [-0.70022545]])"
      ]
     },
     "execution_count": 267,
     "metadata": {},
     "output_type": "execute_result"
    }
   ],
   "source": [
    "# These are the means\n",
    "gmm.means_"
   ]
  },
  {
   "cell_type": "code",
   "execution_count": 268,
   "metadata": {},
   "outputs": [
    {
     "data": {
      "text/plain": [
       "array([0.88882433, 0.9036587 ])"
      ]
     },
     "execution_count": 268,
     "metadata": {},
     "output_type": "execute_result"
    }
   ],
   "source": [
    "# These are the standard deviations\n",
    "np.sqrt(gmm.covariances_)"
   ]
  },
  {
   "cell_type": "code",
   "execution_count": 269,
   "metadata": {},
   "outputs": [
    {
     "data": {
      "text/plain": [
       "array([0, 0, 0, ..., 1, 1, 1])"
      ]
     },
     "execution_count": 269,
     "metadata": {},
     "output_type": "execute_result"
    }
   ],
   "source": [
    "# These are the labels\n",
    "gmm.predict(df)"
   ]
  },
  {
   "cell_type": "code",
   "execution_count": 270,
   "metadata": {},
   "outputs": [
    {
     "data": {
      "image/png": "[encoded data removed]",
      "text/plain": [
       "<Figure size 432x288 with 1 Axes>"
      ]
     },
     "metadata": {},
     "output_type": "display_data"
    }
   ],
   "source": [
    "ax = plt.scatter(df,gmm.predict(df), c=gmm.predict(df) )\n",
    "for mean in gmm.means_:\n",
    "    plt.axvline(x=mean)\n",
    "ax = plt.axvline(-mu1, c='b')\n",
    "ax = plt.axvline(mu1, c='b')\n",
    "ax.figure.savefig('GMM - Mean Shift mu1.png')"
   ]
  },
  {
   "cell_type": "markdown",
   "metadata": {},
   "source": [
    "Note that the means have not shifted as much as with KMeans. \n",
    "This means there's less bias with GMM\n",
    "\n",
    "Note also that the variances didn't shrink as much"
   ]
  },
  {
   "cell_type": "code",
   "execution_count": 271,
   "metadata": {},
   "outputs": [
    {
     "name": "stdout",
     "output_type": "stream",
     "text": [
      "[[-0.90136263]\n",
      " [ 0.90535806]]\n",
      "[[ 0.68340782]\n",
      " [-0.70022545]]\n"
     ]
    }
   ],
   "source": [
    "# KMeans means\n",
    "print(kmeans.cluster_centers_)\n",
    "# GMM Means\n",
    "print(gmm.means_)"
   ]
  },
  {
   "cell_type": "code",
   "execution_count": 272,
   "metadata": {},
   "outputs": [
    {
     "name": "stdout",
     "output_type": "stream",
     "text": [
      "(0.6900948083162431, 0.6748790521604103)\n",
      "[0.88882433 0.9036587 ]\n"
     ]
    }
   ],
   "source": [
    "# KMeans Standard Deviations\n",
    "print((df[kmeans.labels_ == 0].std()[0], df[kmeans.labels_ == 1].std()[0]))\n",
    "# GMM Standard Deviations\n",
    "print(np.sqrt(gmm.covariances_))"
   ]
  },
  {
   "cell_type": "markdown",
   "metadata": {},
   "source": [
    "After repeating all of the above steps, but with different means for generating data (mu2, and mu3) we get the below"
   ]
  },
  {
   "cell_type": "markdown",
   "metadata": {},
   "source": [
    "mu1 - means\n",
    "\n",
    "[[-0.90136263]\n",
    " [ 0.90535806]]  k- Means\n",
    " \n",
    "[[ 0.68340782]\n",
    " [-0.70022545]]  Gmm"
   ]
  },
  {
   "cell_type": "markdown",
   "metadata": {},
   "source": [
    "mu1 - standard deviations  \n",
    "(0.6900948083162431, 0.6748790521604103)  \n",
    "[0.88882433 0.9036587 ]\n"
   ]
  },
  {
   "cell_type": "markdown",
   "metadata": {},
   "source": [
    "mu2 - means  \n",
    "[[-1.21723997]\n",
    " [ 1.1571772 ]]  \n",
    " \n",
    "[[-1.08188771]\n",
    " [ 1.02226646]]"
   ]
  },
  {
   "cell_type": "markdown",
   "metadata": {},
   "source": [
    "mu2 - standard deviations  \n",
    "(0.8102111703471394, 0.8125527138912274)  \n",
    "[0.98094532 0.97945201]"
   ]
  },
  {
   "cell_type": "markdown",
   "metadata": {},
   "source": [
    "mu3 - means  \n",
    "[[ 2.03866162]\n",
    " [-2.06267674]]  \n",
    "[[ 2.02812143]\n",
    " [-2.04424509]]"
   ]
  },
  {
   "cell_type": "markdown",
   "metadata": {},
   "source": [
    "mu3 - standard deviations  \n",
    "(0.9619888568606922, 0.9691381046521211)  \n",
    "[0.98872345 1.0023763 ]"
   ]
  },
  {
   "cell_type": "markdown",
   "metadata": {},
   "source": [
    "We note that, with more 'distant' Gaussians, the standard deviation estiamtion becomes more accurate  \n",
    "We also note that the distance between the means is also less significant.\n",
    "\n",
    "In each instance, however, GMM gives better estimates!"
   ]
  }
 ],
 "metadata": {
  "kernelspec": {
   "display_name": "Python 3",
   "language": "python",
   "name": "python3"
  },
  "language_info": {
   "codemirror_mode": {
    "name": "ipython",
    "version": 3
   },
   "file_extension": ".py",
   "mimetype": "text/x-python",
   "name": "python",
   "nbconvert_exporter": "python",
   "pygments_lexer": "ipython3",
   "version": "3.7.4"
  }
 },
 "nbformat": 4,
 "nbformat_minor": 4
}
